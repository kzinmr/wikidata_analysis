{
 "cells": [
  {
   "cell_type": "markdown",
   "metadata": {},
   "source": [
    "# Data Extraction from Wikidata"
   ]
  },
  {
   "cell_type": "markdown",
   "metadata": {},
   "source": [
    "## 当ノートブックの作業内容\n",
    "- idに対応する見出しを付与していく\n",
    "- エンティティに対するプロパティのうち、必要なものだけを絞り込む\n",
    "   - 絞り込んだ結果, データサイズが 17GB -> 1.3GB にまで削減\n",
    "\n",
    "\n",
    "### 詳細\n",
    "\n",
    "元データ\n",
    "- 多言語のデータ\n",
    "- 1JSONエントリが、エンティティ(idがQ*のもの)またはプロパティ(idがP*のもの)に対応\n",
    "- これらのうち、日本語タイトルを含むデータのみ抽出 \n",
    "   - 67,719,431件(68GB) -> 2,274,894件(17GB)\n",
    "   - フィールド\n",
    "        - id\n",
    "        - `title_ja` (originally `label->ja`)\n",
    "        - title_en\n",
    "        - descriptions_ja (originally `descriptions->ja`)\n",
    "        - descriptions_en\n",
    "        - aliases_ja (originally `aliases->ja->value`)\n",
    "        - properties (originally `claims`)\n",
    "\n",
    "- 上記の前処理はシングルスレッドだとかなり時間がかかるので、データ分割してマルチコア並列処理で対処(GNU Parallel使用)\n",
    "\n",
    "\n",
    "参考情報.\n",
    "- 元データ: https://dumps.wikimedia.org/wikidatawiki/entities/\n",
    "- 元データ仕様: https://www.mediawiki.org/wiki/Wikibase/DataModel/JSON\n",
    "- プロパティ型仕様: https://www.wikidata.org/wiki/Special:ListDatatypes\n",
    "- プロパティ一覧: https://www.wikidata.org/wiki/Wikidata:Database_reports/List_of_properties/all"
   ]
  },
  {
   "cell_type": "code",
   "execution_count": 1,
   "metadata": {},
   "outputs": [],
   "source": [
    "import jsonlines\n",
    "import json"
   ]
  },
  {
   "cell_type": "code",
   "execution_count": 2,
   "metadata": {
    "scrolled": true
   },
   "outputs": [],
   "source": [
    "from pprint import PrettyPrinter\n",
    "\n",
    "pp = PrettyPrinter()"
   ]
  },
  {
   "cell_type": "markdown",
   "metadata": {},
   "source": [
    "# データのあるディレクトリを指定"
   ]
  },
  {
   "cell_type": "code",
   "execution_count": 3,
   "metadata": {},
   "outputs": [],
   "source": [
    "from pathlib import Path\n",
    "\n",
    "workdir = Path('./data')"
   ]
  },
  {
   "cell_type": "markdown",
   "metadata": {},
   "source": [
    "## Qid -> エンティティ見出し"
   ]
  },
  {
   "cell_type": "code",
   "execution_count": 4,
   "metadata": {
    "scrolled": true
   },
   "outputs": [
    {
     "name": "stdout",
     "output_type": "stream",
     "text": [
      "CPU times: user 15min 17s, sys: 12.8 s, total: 15min 30s\n",
      "Wall time: 24min 38s\n"
     ]
    },
    {
     "data": {
      "text/plain": [
       "2272754"
      ]
     },
     "execution_count": 4,
     "metadata": {},
     "output_type": "execute_result"
    }
   ],
   "source": [
    "%%time\n",
    "import pickle\n",
    "\n",
    "\n",
    "with jsonlines.open(workdir / '20191125-split-ja-title.jsonl') as reader:\n",
    "    qid2midasi = {json.loads(l)['id']: json.loads(l)['title_ja']['value']\n",
    "               for l in reader.iter()\n",
    "               if json.loads(l)['id'].startswith('Q')}\n",
    "# with open('qid2midasi.pkl', 'wb') as fp:\n",
    "#     pickle.dump(qid2midasi, fp)\n",
    "#with open('qid2midasi.pkl', 'rb') as fp:\n",
    "#    qid2midasi = pickle.load(fp)\n",
    "\n",
    "len(qid2midasi)"
   ]
  },
  {
   "cell_type": "code",
   "execution_count": 5,
   "metadata": {},
   "outputs": [
    {
     "name": "stdout",
     "output_type": "stream",
     "text": [
      "2140\n",
      "CPU times: user 9min 5s, sys: 13.1 s, total: 9min 18s\n",
      "Wall time: 9min 19s\n"
     ]
    }
   ],
   "source": [
    "%%time\n",
    "\n",
    "with jsonlines.open(workdir / '20191125-split-ja-title.jsonl') as reader:\n",
    "    p_lines = [l for l in reader.iter() if json.loads(l)['id'].startswith('P')]\n",
    "p_dicts = [json.loads(l) for l in p_lines]\n",
    "print(len(p_dicts))\n",
    "with jsonlines.open(workdir / '20191125-split-ja-title_properties.jsonl', 'w') as writer:\n",
    "    writer.write_all(p_dicts)\n",
    "\n",
    "p_dicts_title = {d['id']: {'ja': d['title_ja']['value'], 'en': d['title_en']['value']}  for d in p_dicts}"
   ]
  },
  {
   "cell_type": "markdown",
   "metadata": {},
   "source": [
    "## Pid -> プロパティ見出し\n",
    "### 抽出対象のプロパティ型を `WikibaseItem`, `WikibaseProperty` に限定\n",
    "\n",
    "その他のプロパティ型\n",
    "- String\n",
    "- Monolingualtext\n",
    "- GeoShape\n",
    "- GeoCoordinate\n",
    "- CommonsMedia\n",
    "- TabularData\n",
    "- ExternalId\n",
    "- Quantity\n",
    "- Time\n",
    "- Url\n",
    "\n",
    "cf.\n",
    "- プロパティ型定義: https://www.wikidata.org/wiki/Special:ListDatatypes\n",
    "- プロパティ一覧: https://www.wikidata.org/wiki/Wikidata:Database_reports/List_of_properties/all\n",
    "- プロパティ検索: https://tools.wmflabs.org/prop-explorer/"
   ]
  },
  {
   "cell_type": "code",
   "execution_count": 7,
   "metadata": {},
   "outputs": [
    {
     "name": "stdout",
     "output_type": "stream",
     "text": [
      "6941 6941\n"
     ]
    },
    {
     "data": {
      "text/plain": [
       "(6941, 1327)"
      ]
     },
     "execution_count": 7,
     "metadata": {},
     "output_type": "execute_result"
    }
   ],
   "source": [
    "with open(workdir / 'props_ja.json') as fp:\n",
    "    props_ja = json.loads(fp.read())\n",
    "with open(workdir / 'props_en.json') as fp:\n",
    "    props_en = json.loads(fp.read())\n",
    "print(len(props_ja), len(props_en))\n",
    "prop_dict = {k: {'ja': v, 'en': props_en[k]} for k, v in props_ja.items()}\n",
    "\n",
    "def get_property_name(key, prop_dict):\n",
    "    d = prop_dict[key]\n",
    "    return {'ja': d['ja']['label'], 'en': d['en']['label'], 'type': d['en']['type']}\n",
    "\n",
    "target_types = {'WikibaseItem', 'WikibaseProperty'}\n",
    "prop_dict_filtered = {pid: prop_dict[pid] for pid, d in prop_dict.items() if d['ja']['type'] in target_types}\n",
    "len(prop_dict), len(prop_dict_filtered)"
   ]
  },
  {
   "cell_type": "code",
   "execution_count": 8,
   "metadata": {},
   "outputs": [
    {
     "data": {
      "text/plain": [
       "{'ja': {'label': '分類',\n",
       "  'type': 'WikibaseItem',\n",
       "  'description': 'この項目をインスタンスとする種類・概念',\n",
       "  'aliases': 'クラス, is-a, ∈, is a, インスタンスの元, 以下の実体, 実体の元, 種類'},\n",
       " 'en': {'label': 'instance of',\n",
       "  'type': 'WikibaseItem',\n",
       "  'description': 'that class of which this subject is a particular example and member (subject typically an individual member with a proper name label); different from P279; using this property as a qualifier is deprecated—use P2868 or P3831 instead',\n",
       "  'aliases': 'member of, type, is a, distinct element of, distinct individual member of, distinct member of, has class, has type, is a particular, is a specific, is a unique, is an, is an example of, is an individual, non-type member of, not a type but is instance of, occurrence of, rdf:type, uninstantiable instance of, unique individual of, unitary element of class, unsubclassable example of, unsubclassifiable member of, unsubtypable particular'}}"
      ]
     },
     "execution_count": 8,
     "metadata": {},
     "output_type": "execute_result"
    }
   ],
   "source": [
    "# 'P31': {'ja': '分類', 'en': 'instance of', 'type': 'WikibaseItem'}\n",
    "prop_dict_filtered['P31']"
   ]
  },
  {
   "cell_type": "code",
   "execution_count": 9,
   "metadata": {
    "scrolled": false
   },
   "outputs": [],
   "source": [
    "def reduce_props(props):\n",
    "    pids = [pid for pid in props if pid in prop_dict_filtered]\n",
    "    results = []\n",
    "    for pid in pids:\n",
    "        p_midasi = get_property_name(pid, prop_dict_filtered)\n",
    "        prop_d = {'id': pid, 'property_midasi': p_midasi, 'entities': []}\n",
    "        for v in props[pid]:\n",
    "            snak = v['mainsnak']\n",
    "            if snak['snaktype'] == 'value' and snak['datavalue']['type'] == 'wikibase-entityid':\n",
    "                qid = snak['datavalue']['value']['id']\n",
    "                q_midasi = qid2midasi.get(qid, None)\n",
    "                if q_midasi is not None:\n",
    "                    prop_d['entities'].append({'id': qid, 'entity_midasi': q_midasi})\n",
    "        if prop_d['entities']:\n",
    "            results.append( prop_d )\n",
    "    return results\n"
   ]
  },
  {
   "cell_type": "code",
   "execution_count": 11,
   "metadata": {},
   "outputs": [
    {
     "name": "stdout",
     "output_type": "stream",
     "text": [
      "CPU times: user 9min 32s, sys: 24.8 s, total: 9min 57s\n",
      "Wall time: 10min\n"
     ]
    }
   ],
   "source": [
    "%%time\n",
    "\n",
    "cnt = 0\n",
    "lines = []\n",
    "with jsonlines.open(workdir / '20191125-split-ja-title.jsonl') as reader:\n",
    "    for l in reader.iter():\n",
    "        d = json.loads(l)\n",
    "        if d['id'].startswith('Q'):\n",
    "            cnt += 1\n",
    "            d['properties'] = reduce_props(d['properties'])\n",
    "            d['title_ja'] = d['title_ja']['value']\n",
    "            if d['title_en'] is not None:\n",
    "                d['title_en'] = d['title_en']['value']\n",
    "            if d['descriptions_en'] is not None:\n",
    "                d['descriptions_en'] = d['descriptions_en']['value']\n",
    "            if d['descriptions_ja'] is not None:\n",
    "                d['descriptions_ja'] = d['descriptions_ja']['value']\n",
    "            lines.append(d)\n",
    "\n",
    "            if cnt % 100000 == 0:\n",
    "                with jsonlines.open(workdir / f'20191125-reduced-ja-{cnt:08}.jsonl', 'w') as writer:\n",
    "                    writer.write_all(lines)\n",
    "                    lines = []\n"
   ]
  },
  {
   "cell_type": "markdown",
   "metadata": {},
   "source": [
    "# 使用例"
   ]
  },
  {
   "cell_type": "code",
   "execution_count": 12,
   "metadata": {},
   "outputs": [],
   "source": [
    "with jsonlines.open(workdir / '20191125-reduced-ja.jsonl') as reader:\n",
    "    kb = list(reader.iter())"
   ]
  },
  {
   "cell_type": "code",
   "execution_count": 14,
   "metadata": {},
   "outputs": [
    {
     "name": "stdout",
     "output_type": "stream",
     "text": [
      "{'aliases_ja': [],\n",
      " 'descriptions_en': 'date in Gregorian calendar',\n",
      " 'descriptions_ja': None,\n",
      " 'id': 'Q69221511',\n",
      " 'properties': [{'entities': [{'entity_midasi': '土曜日', 'id': 'Q131'}],\n",
      "                 'id': 'P2894',\n",
      "                 'property_midasi': {'en': 'day of week',\n",
      "                                     'ja': '曜日',\n",
      "                                     'type': 'WikibaseItem'}},\n",
      "                {'entities': [{'entity_midasi': '1843年1月', 'id': 'Q16644749'}],\n",
      "                 'id': 'P361',\n",
      "                 'property_midasi': {'en': 'part of',\n",
      "                                     'ja': '以下の一部分',\n",
      "                                     'type': 'WikibaseItem'}},\n",
      "                {'entities': [{'entity_midasi': '1月14日', 'id': 'Q2257'}],\n",
      "                 'id': 'P31',\n",
      "                 'property_midasi': {'en': 'instance of',\n",
      "                                     'ja': '分類',\n",
      "                                     'type': 'WikibaseItem'}}],\n",
      " 'title_en': '14 January 1843',\n",
      " 'title_ja': '1843年1月14日'}\n"
     ]
    }
   ],
   "source": [
    "import random\n",
    "\n",
    "pp.pprint(random.choice(kb))"
   ]
  },
  {
   "cell_type": "code",
   "execution_count": 15,
   "metadata": {},
   "outputs": [
    {
     "data": {
      "text/plain": [
       "[('新潟県立新潟南高等学校', '国', '日本'),\n",
       " ('新潟県立新潟南高等学校', '位置する行政区画', '新潟市'),\n",
       " ('新潟県立新潟南高等学校', '分類', 'ハイスクール'),\n",
       " ('新潟県立新潟南高等学校', '分類', '教育機関')]"
      ]
     },
     "execution_count": 15,
     "metadata": {},
     "output_type": "execute_result"
    }
   ],
   "source": [
    "triples = random.choice(kb)\n",
    "\n",
    "triples = [(triples['title_ja'], pe['property_midasi']['ja'], e['entity_midasi'])\n",
    "           for pe in triples['properties'] for e in pe['entities']]\n",
    "triples"
   ]
  }
 ],
 "metadata": {
  "kernelspec": {
   "display_name": "Python 3",
   "language": "python",
   "name": "python3"
  },
  "language_info": {
   "codemirror_mode": {
    "name": "ipython",
    "version": 3
   },
   "file_extension": ".py",
   "mimetype": "text/x-python",
   "name": "python",
   "nbconvert_exporter": "python",
   "pygments_lexer": "ipython3",
   "version": "3.7.4"
  }
 },
 "nbformat": 4,
 "nbformat_minor": 2
}
